{
 "cells": [
  {
   "cell_type": "markdown",
   "metadata": {},
   "source": [
    "![alt text](https://img.rawpixel.com/s3fs-private/rawpixel_images/website_content/rm208batch13-wan-01-a.jpg?auto=format&bg=transparent&con=3&cs=srgb&dpr=1&fm=jpg&ixlib=php-3.1.0&mark=rawpixel-watermark.png&markalpha=90&markpad=13&markscale=10&markx=25&q=75&usm=15&vib=3&w=1400&s=3eeaaa96eea7c55ef17a6ade4aae8f9d)\n",
    "\n",
    "Introduction:\n",
    "\n",
    "The term best is very subjective. The specifications I use to define the “best” fast food place may be different then what someone else uses for their definition of the “best” fast food place. (HInt: It's Taco Bell, Duh.) In the case of M2GO Squad’s definition of best, we define it as something that is great for children. In the case of the “best neighborhood”, we defined best as best for children. The idea boils down to that if a neighborhood is good for the kids then the benefits should lament itself through other aspects of that said neighborhood. A child that lives in a good environment is what we consider one of the best cases for a neighborhood. Many people consider what is good for the children when they move from one area to the next. A vast amount of those people look to metrics such as how safe the area is, and how much opportunity is available such as education, and clubs. Ignoring price, these parents have the child’s interest set as a high priority when moving, making it a note worth pointing out. In this manner we see people determine the neighborhood that is “best for them” is based upon children as well.\n",
    "\n",
    "Now that we know the target audience of what best is aimed at, how do we define what is best for children? We defined best in this case for a child by 3 things\n",
    "\n",
    "-That there is areas for recreation (Playing outside really)\n",
    "\n",
    "-That there is low percentage of people speeding (kids play near the road or walk home from the schoolbus, we want them to be safe)\n",
    "\n",
    "-That there is a low amount of crime reports (We obviously do not want our kids around a place that constantly has crimes)\n"
   ]
  },
  {
   "cell_type": "code",
   "execution_count": 4,
   "metadata": {},
   "outputs": [],
   "source": [
    "import pandas as pd\n",
    "import math\n",
    "from matplotlib import pyplot as plt\n",
    "\n",
    "policeIncidentData = pd.read_csv('https://data.wprdc.org/dataset/5e6711a3-90e5-457d-8c73-445fb5f363e2/resource/391942e2-25ef-43e4-8263-f8519fa8aada/download/archive-police-blotter.csv')\n",
    "playingFieldData = pd.read_csv('https://data.wprdc.org/datastore/dump/6af89346-b971-41d5-af09-49cfdb4dfe23')\n",
    "trafficCountData = pd.read_csv('https://data.wprdc.org/datastore/dump/6dfd4f8f-cbf5-4917-a5eb-fd07f4403167')\n",
    "\n",
    "policeIncidentDict = dict()\n",
    "playingFieldDict = dict()\n",
    "trafficCountDict = dict()"
   ]
  },
  {
   "cell_type": "markdown",
   "metadata": {},
   "source": [
    "The first metric we will examine will be the areas for recreation. Every child needs a playing field to build character (That's what my dad said at least….). We defined these as playing fields in our data search and was brought back a dataset that listed the neighborhoods of the playing fields. We first brought in pandas and then proceeded to import the files into the notebook."
   ]
  },
  {
   "cell_type": "code",
   "execution_count": 10,
   "metadata": {},
   "outputs": [],
   "source": [
    "for neighborhood in playingFieldData.neighborhood:\n",
    "    if neighborhood in playingFieldDict:\n",
    "        playingFieldDict[neighborhood] += 1\n",
    "    else:\n",
    "        playingFieldDict[neighborhood] = 1"
   ]
  },
  {
   "cell_type": "markdown",
   "metadata": {},
   "source": [
    "The data set we used listed each playing field and the neighborhood it resided in, so with the code above we made a dictionary to keep track of each neighborhood and how many times a park was mentioned being there. Then we used the code below to sort the dictionary and print it out."
   ]
  },
  {
   "cell_type": "code",
   "execution_count": 5,
   "metadata": {},
   "outputs": [
    {
     "name": "stdout",
     "output_type": "stream",
     "text": [
      "Allentown 1\n",
      "Windgap 1\n",
      "Arlington 1\n",
      "East Hills 1\n",
      "East Liberty 1\n",
      "Upper Lawrenceville 1\n",
      "Fineview 1\n",
      "Garfield 1\n",
      "Perry South 1\n",
      "Terrace Village 1\n",
      "Larimer 1\n",
      "Central Oakland 1\n",
      "Lincoln Place 1\n",
      "Spring Garden 1\n",
      "Oakwood 1\n",
      "Stanton Heights 1\n",
      "Marshall-Shadeland 1\n",
      "West End 1\n",
      "Polish Hill 1\n",
      "Squirrel Hill North 1\n",
      "Homewood South 1\n",
      "South Side Flats 2\n",
      "Banksville 2\n",
      "Lincoln-Lemington-Belmar 2\n",
      "South Oakland 2\n",
      "Crafton Heights 2\n",
      "Regent Square 2\n",
      "Perry North 2\n",
      "Elliott 2\n",
      "Central Lawrenceville 2\n",
      "Bedford Dwellings 2\n",
      "Greenfield 2\n",
      "Manchester 2\n",
      "Allegheny Center 2\n",
      "Spring Hill-City View 2\n",
      "Westwood 2\n",
      "Troy Hill 3\n",
      "Mount Washington 3\n",
      "Beechview 3\n",
      "Morningside 3\n",
      "Beltzhoover 3\n",
      "Sheraden 3\n",
      "Shadyside 3\n",
      "Lower Lawrenceville 4\n",
      "Hazelwood 4\n",
      "Highland Park 4\n",
      "Squirrel Hill South 5\n",
      "Carrick 5\n",
      "South Side Slopes 6\n",
      "Brookline 6\n",
      "Brighton Heights 7\n"
     ]
    }
   ],
   "source": [
    "sortedDict = sorted(playingFieldDict.items() ,  key=lambda x: x[1])\n",
    "for elem in sortedDict:\n",
    "    print(elem[0], elem[1])"
   ]
  },
  {
   "cell_type": "markdown",
   "metadata": {},
   "source": [
    "Shown above is the count of parks for each neighborhood, The bar graph underneath shows the top 15 places with the most parks. Most of the top 15 have 3-4 parks in their neighborhood. We as a group decided our final answer should have at least three parks."
   ]
  },
  {
   "cell_type": "code",
   "execution_count": 6,
   "metadata": {},
   "outputs": [
    {
     "data": {
      "text/plain": [
       "Text(0, 0.5, 'Total Number of Playing Fields')"
      ]
     },
     "execution_count": 6,
     "metadata": {},
     "output_type": "execute_result"
    },
    {
     "data": {
      "image/png": "[encoded data removed]",
      "text/plain": [
       "<Figure size 432x288 with 1 Axes>"
      ]
     },
     "metadata": {
      "needs_background": "light"
     },
     "output_type": "display_data"
    }
   ],
   "source": [
    "dataFieldsSeries = pd.Series(playingFieldDict, name = \"Fields\")\n",
    "dataFieldsSeries.sort_values(ascending = False)[:15].plot.bar()\n",
    "plt.title('Number of Playing Fields per Neighborhood')\n",
    "plt.xlabel('Neighborhood')\n",
    "plt.ylabel('Total Number of Playing Fields')"
   ]
  },
  {
   "cell_type": "code",
   "execution_count": 9,
   "metadata": {},
   "outputs": [],
   "source": [
    "for neighborhood in policeIncidentData.INCIDENTNEIGHBORHOOD:\n",
    "    if neighborhood in policeIncidentDict:\n",
    "        policeIncidentDict[neighborhood] += 1\n",
    "    else:\n",
    "        policeIncidentDict[neighborhood] = 1"
   ]
  },
  {
   "cell_type": "markdown",
   "metadata": {},
   "source": [
    "With the code above we find how many times each neighborhood was mentioned in the data and used a dictionary to keep track of these counts (just like we did with the parks). This allowed us to determine how many police incidents happened in each individual area."
   ]
  },
  {
   "cell_type": "code",
   "execution_count": 7,
   "metadata": {},
   "outputs": [
    {
     "name": "stdout",
     "output_type": "stream",
     "text": [
      "Outside County 201\n",
      "Outside State 202\n",
      "Mt. Oliver Boro 239\n",
      "Chartiers City 427\n",
      "New Homestead 459\n",
      "Swisshelm Park 616\n",
      "East Carnegie 734\n",
      "Summer Hill 784\n",
      "Ridgemont 817\n",
      "Mt. Oliver Neighborhood 852\n",
      "Hays 875\n",
      "Arlington Heights 902\n",
      "Oakwood 904\n",
      "Glen Hazel 947\n",
      "Regent Square 952\n",
      "Esplen 1050\n",
      "Fairywood 1058\n",
      "Spring Garden 1312\n",
      "Windgap 1357\n",
      "Polish Hill 1466\n",
      "West End 1560\n",
      "Duquesne Heights 1583\n",
      "Bon Air 1668\n",
      "Morningside 1978\n",
      "St. Clair 2001\n",
      "Allegheny West 2161\n",
      "California-Kirkbride 2348\n",
      "Banksville 2354\n",
      "Chateau 2356\n",
      "Fineview 2549\n",
      "Lincoln Place 2566\n",
      "Bedford Dwellings 2722\n",
      "Stanton Heights 2848\n",
      "Overbrook 2865\n",
      "Westwood 2907\n",
      "Upper Hill 2968\n",
      "South Shore 2970\n",
      "South Oakland 2998\n",
      "Beltzhoover 3134\n",
      "Spring Hill-City View 3154\n",
      "Friendship 3170\n",
      "Manchester 3173\n",
      "Upper Lawrenceville 3328\n",
      "Arlington 3445\n",
      "Terrace Village 3534\n",
      "Elliott 3586\n",
      "West Oakland 3617\n",
      "Troy Hill-Herrs Island 3670\n",
      "Point Breeze North 3779\n",
      "Crafton Heights 3865\n",
      "Homewood West 4009\n",
      "Northview Heights 4130\n",
      "Outside City 4167\n",
      "Point Breeze 4549\n",
      "Greenfield 4553\n",
      "North Shore 4732\n",
      "Allegheny Center 4801\n",
      "Crawford-Roberts 4887\n",
      "Lower Lawrenceville 4949\n",
      "Bluff 5000\n",
      "Garfield 5225\n",
      "South Side Slopes 5527\n",
      "Perry North 5670\n",
      "Strip District 5706\n",
      "Middle Hill 6046\n",
      "Perry South 6233\n",
      "Central Northside 6248\n",
      "Squirrel Hill North 6374\n",
      "Hazelwood 6626\n",
      "Larimer 6644\n",
      "East Hills 6781\n",
      "Beechview 6867\n",
      "Marshall-Shadeland 6990\n",
      "Sheraden 7514\n",
      "East Allegheny 7602\n",
      "Highland Park 7770\n",
      "nan 8330\n",
      "Central Lawrenceville 8348\n",
      "Allentown 8435\n",
      "North Oakland 9060\n",
      "Homewood North 9387\n",
      "Brookline 9392\n",
      "Brighton Heights 9789\n",
      "Squirrel Hill South 9971\n",
      "Lincoln-Lemington-Belmar 10013\n",
      "Central Oakland 10435\n",
      "Mount Washington 11018\n",
      "Homewood South 11019\n",
      "Knoxville 11276\n",
      "East Liberty 11903\n",
      "Shadyside 14584\n",
      "Bloomfield 16223\n",
      "Carrick 18059\n",
      "South Side Flats 28251\n",
      "Golden Triangle/Civic Arena 29147\n"
     ]
    }
   ],
   "source": [
    "sortedPoliceDict = sorted(policeIncidentDict.items() ,  key=lambda x: x[1])\n",
    "for elem in sortedPoliceDict:\n",
    "    print(elem[0], elem[1])"
   ]
  },
  {
   "cell_type": "markdown",
   "metadata": {},
   "source": [
    "Listed above, in the same style as the playing fields, is the data for the amount of crimes committed in neighborhoods. The group’s immediate reaction was being shocked. Many of the places with the highest number of parks also landed on some of the highest neighborhoods of crime. It was obvious from this metric that we would probably have to make some sacrifices for our final selection."
   ]
  },
  {
   "cell_type": "code",
   "execution_count": 8,
   "metadata": {},
   "outputs": [
    {
     "data": {
      "text/plain": [
       "Text(0, 0.5, 'Total Number of Reports')"
      ]
     },
     "execution_count": 8,
     "metadata": {},
     "output_type": "execute_result"
    },
    {
     "data": {
      "image/png": "[encoded data removed]",
      "text/plain": [
       "<Figure size 432x288 with 1 Axes>"
      ]
     },
     "metadata": {
      "needs_background": "light"
     },
     "output_type": "display_data"
    }
   ],
   "source": [
    "policeSeries = pd.Series(policeIncidentDict, name = \"Incidents\")\n",
    "policeSeries.sort_values(ascending = False)[:15].plot.bar()\n",
    "plt.title('Number of Police Incidents')\n",
    "plt.xlabel('Neighborhood')\n",
    "plt.ylabel('Total Number of Reports')"
   ]
  },
  {
   "cell_type": "markdown",
   "metadata": {},
   "source": [
    "This graph shows us the top 15 neighborhoods with the most crime incidents. These neighborhoods had anywhere from 9387 incidents all the way up to 29147. We decided that our selection for best neighborhood should be nowhere within these numbers. "
   ]
  },
  {
   "cell_type": "markdown",
   "metadata": {},
   "source": [
    "The final metric we examined was percent of people speeding. We decided on this metric as car crashes are one of the leading causes of death. Limiting the amount of car crashes (caused from speeding drivers) will help provide a safer environment for the children."
   ]
  },
  {
   "cell_type": "code",
   "execution_count": 100,
   "metadata": {},
   "outputs": [],
   "source": [
    "speedingAvgDict = dict()\n",
    "\n",
    "for row in range(len(trafficCountData)):\n",
    "    neighborhood = trafficCountData.loc[row, 'neighborhood']\n",
    "    speeding = trafficCountData.loc[row, 'percent_over_limit']\n",
    "    if neighborhood in speedingAvgDict:\n",
    "        trafficCountDict[neighborhood] += 1\n",
    "        if not math.isnan(speeding):\n",
    "            speedingAvgDict[neighborhood] += float(speeding)\n",
    "        else:\n",
    "            speedingAvgDict[neighborhood] += 0\n",
    "    else:\n",
    "        trafficCountDict[neighborhood] = 1\n",
    "        if math.isnan(speeding):\n",
    "            speedingAvgDict[neighborhood] = 0\n",
    "        else:\n",
    "            speedingAvgDict[neighborhood] = float(speeding)"
   ]
  },
  {
   "cell_type": "markdown",
   "metadata": {},
   "source": [
    "The code for the dataset for the traffic data was a little different. We had to keep track of two different values connecting to the neighborhoods so we could find the average amount of vehicles going over the speed limit. We used two dictionaries to keep track of these numbers. One containted the number of times the neighborhoods speeds were mentioned, and the other kept track of the total of all the speeding averages. We then used these two dictionaries to create one final dictionary that contained the average number of vehicles going over the speed limit and printed that out."
   ]
  },
  {
   "cell_type": "code",
   "execution_count": 101,
   "metadata": {},
   "outputs": [
    {
     "name": "stdout",
     "output_type": "stream",
     "text": [
      "Upper Lawrenceville 0.0\n",
      "South Shore 0.0\n",
      "South Side Flats 0.0\n",
      "South Oakland 0.0\n",
      "West Oakland 0.0\n",
      "Hazelwood 0.0\n",
      "Lincoln-Lemington-Belmar 0.0\n",
      "Chateau 0.0\n",
      "Swisshelm Park 0.0\n",
      "Central Business District 3.0\n",
      "Carrick 3.25\n",
      "Bluff 5.5\n",
      "Upper Hill 7.5\n",
      "Central Oakland 7.833333333333333\n",
      "Central Northside 10.333333333333334\n",
      "Central Lawrenceville 10.6\n",
      "Allegheny West 11.0\n",
      "Bloomfield 14.454545454545455\n",
      "Greenfield 15.0\n",
      "Strip District 16.454545454545453\n",
      "North Oakland 16.714285714285715\n",
      "Shadyside 22.0\n",
      "Elliott 24.25\n",
      "Brookline 24.6\n",
      "Knoxville 25.0\n",
      "Perry South 26.0\n",
      "Squirrel Hill North 26.4\n",
      "Lower Lawrenceville 28.333333333333332\n",
      "Overbrook 29.0\n",
      "Point Breeze 29.8\n",
      "Morningside 32.25\n",
      "Windgap 33.666666666666664\n",
      "Marshall-Shadeland 34.0\n",
      "South Side Slopes 34.4\n",
      "Highland Park 36.57142857142857\n",
      "Manchester 36.75\n",
      "Polish Hill 37.2\n",
      "East Allegheny 38.0\n",
      "Westwood 39.666666666666664\n",
      "East Liberty 40.38461538461539\n",
      "Arlington 41.0\n",
      "St. Clair 42.5\n",
      "Larimer 42.714285714285715\n",
      "Perry North 42.75\n",
      "Squirrel Hill South 43.666666666666664\n",
      "Beechview 44.25\n",
      "Duquesne Heights 48.0\n",
      "North Shore 55.666666666666664\n",
      "Sheraden 64.0\n",
      "Allegheny Center 65.0\n",
      "Homewood South 66.33333333333333\n",
      "Mount Washington 66.5\n",
      "Friendship 68.0\n",
      "Homewood North 78.0\n",
      "Stanton Heights 81.33333333333333\n",
      "Regent Square 86.0\n",
      "Point Breeze North 88.0\n",
      "Crafton Heights 98.0\n",
      "East Hills 98.0\n"
     ]
    }
   ],
   "source": [
    "finalAvgDict = dict()\n",
    "for neighborhood in speedingAvgDict:\n",
    "    finalAvgDict[neighborhood] = speedingAvgDict[neighborhood] / trafficCountDict[neighborhood]\n",
    "\n",
    "sortedSpeed = sorted(finalAvgDict.items() ,  key=lambda x: x[1])\n",
    "for elem in sortedSpeed:\n",
    "    if math.isnan(elem[1]):\n",
    "        print(elem[0], \"0\")\n",
    "    else:\n",
    "        print(elem[0], elem[1])"
   ]
  },
  {
   "cell_type": "code",
   "execution_count": 108,
   "metadata": {},
   "outputs": [
    {
     "data": {
      "text/plain": [
       "Text(0, 0.5, 'Average Percent Over Speed Limit')"
      ]
     },
     "execution_count": 108,
     "metadata": {},
     "output_type": "execute_result"
    },
    {
     "data": {
      "image/png": "[encoded data removed]",
      "text/plain": [
       "<Figure size 432x288 with 1 Axes>"
      ]
     },
     "metadata": {
      "needs_background": "light"
     },
     "output_type": "display_data"
    }
   ],
   "source": [
    "trafficSeries = pd.Series(finalAvgDict, name = \"Speeds\")\n",
    "trafficSeries.sort_values(ascending = False)[:15].plot.bar()\n",
    "plt.title('Percent of Vehicles Going Over Speed Limit by Neighborhood')\n",
    "plt.xlabel('Neighborhood')\n",
    "plt.ylabel('Average Percent Over Speed Limit')"
   ]
  },
  {
   "cell_type": "markdown",
   "metadata": {},
   "source": [
    "The final metric threw us for a whirl. We had no pattern of the other 2 top 15 lists appearing on the metric. They were scattered leaving us with no clear path in terms of what we defined as the best neighborhood for children."
   ]
  },
  {
   "cell_type": "markdown",
   "metadata": {},
   "source": [
    "Conclusion:\n",
    "\n",
    "After examining our 3 lists as a group, we found that some statistics were gonna have to weigh more than others in order to sacrifice some of our demands to make a selection. We immediately took off any of the top places with playing fields that also landed on the top crime rate. Next the group agreed we put priority on the selections. In order of most important to least we did Crime rate > Amount of playing fields > percentage of people speeding. Next we took the neighborhoods that were left and took out any of them that were 7000 or over in the crime reports section to begin limiting our selection. Once we did that we saw that morningside had by far the lowest crime rate while meeting our “at least 3 playing fields” requirement. Although it was close to the median of percentage of people speeding we decided to have the crime rate weigh more in our decision. None of the metrics gave us a clear winner so we had to create our own limitations to sift through the data and find a neighborhood that satisfied all 3 metrics to the best that we could find. And that neighborhood was Morningside. "
   ]
  }
 ],
 "metadata": {
  "kernelspec": {
   "display_name": "Python 3",
   "language": "python",
   "name": "python3"
  },
  "language_info": {
   "codemirror_mode": {
    "name": "ipython",
    "version": 3
   },
   "file_extension": ".py",
   "mimetype": "text/x-python",
   "name": "python",
   "nbconvert_exporter": "python",
   "pygments_lexer": "ipython3",
   "version": "3.6.7"
  }
 },
 "nbformat": 4,
 "nbformat_minor": 4
}
